{
 "cells": [
  {
   "cell_type": "markdown",
   "metadata": {},
   "source": [
    "### 实现了Linear和Bilinear两个线性映射层"
   ]
  },
  {
   "cell_type": "code",
   "execution_count": 1,
   "metadata": {
    "collapsed": false
   },
   "outputs": [
    {
     "name": "stdout",
     "output_type": "stream",
     "text": [
      "torch.Size([128, 30])\n",
      "torch.Size([128, 30])\n",
      "True\n"
     ]
    }
   ],
   "source": [
    "import torch.nn as nn\n",
    "import torch\n",
    "# in_features输入的dimension\n",
    "# out_features输出的dimension\n",
    "m = nn.Linear(20, 30)\n",
    "\n",
    "# Input: (N,∗,in_features)\n",
    "# 这里相当于第二维没有\n",
    "input = torch.randn(128, 20)\n",
    "\n",
    "# Output: (N,∗,out_features)\n",
    "output = m(input)\n",
    "print(output.size())\n",
    "\n",
    "# linear的公式为 y=x*A.T + b\n",
    "output1 = torch.mm(input, m.weight.t()) + m.bias\n",
    "print(output1.size())\n",
    "print(torch.equal(output, output1))\n"
   ]
  },
  {
   "cell_type": "code",
   "execution_count": 11,
   "metadata": {
    "collapsed": false
   },
   "outputs": [
    {
     "name": "stdout",
     "output_type": "stream",
     "text": [
      "torch.Size([128, 40])\n",
      "torch.Size([128, 20])\n",
      "torch.Size([128, 30])\n",
      "torch.Size([40, 20, 30])\n",
      "torch.Size([40])\n",
      "torch.Size([128, 40])\n",
      "True\n"
     ]
    }
   ],
   "source": [
    "# in1_features – size of each first input sample\n",
    "# in2_features – size of each second input sample\n",
    "# out_features – size of each output sample\n",
    "m = nn.Bilinear(20, 30, 40)\n",
    "# Input1: (N,∗,in_features)\n",
    "# Input2: (N,∗,in_features)\n",
    "# 这里相当于第二维没有\n",
    "input1 = torch.randn(128, 20)\n",
    "input2 = torch.randn(128, 30)\n",
    "# Output: (N,∗,out_features)\n",
    "output = m(input1, input2)\n",
    "print(output.size())\n",
    "\n",
    "# bilinear的公式为 y=x1.T*A*x2 + b\n",
    "# 注意不是3个二维矩阵相乘！！！\n",
    "print(input1.size())\n",
    "print(input2.size())\n",
    "print(m.weight.size())\n",
    "print(m.bias.size())\n",
    "y = torch.zeros((input1.shape[0], m.weight.shape[0]))\n",
    "for k in range(m.weight.shape[0]):\n",
    "    buff = torch.mm(input1, m.weight[k])\n",
    "    buff = torch.mul(buff, input2)\n",
    "    buff = torch.sum(buff, axis=1)\n",
    "    y[:, k] = buff\n",
    "y += m.bias\n",
    "print(y.size())\n",
    "print(torch.equal(output, y))"
   ]
  },
  {
   "cell_type": "code",
   "execution_count": null,
   "metadata": {
    "collapsed": true
   },
   "outputs": [],
   "source": []
  }
 ],
 "metadata": {
  "kernelspec": {
   "display_name": "Python 3",
   "language": "python",
   "name": "python3"
  },
  "language_info": {
   "codemirror_mode": {
    "name": "ipython",
    "version": 3
   },
   "file_extension": ".py",
   "mimetype": "text/x-python",
   "name": "python",
   "nbconvert_exporter": "python",
   "pygments_lexer": "ipython3",
   "version": "3.6.2"
  },
  "latex_envs": {
   "LaTeX_envs_menu_present": true,
   "autoclose": false,
   "autocomplete": true,
   "bibliofile": "biblio.bib",
   "cite_by": "apalike",
   "current_citInitial": 1,
   "eqLabelWithNumbers": true,
   "eqNumInitial": 1,
   "hotkeys": {
    "equation": "Ctrl-E",
    "itemize": "Ctrl-I"
   },
   "labels_anchors": false,
   "latex_user_defs": false,
   "report_style_numbering": false,
   "user_envs_cfg": false
  }
 },
 "nbformat": 4,
 "nbformat_minor": 2
}

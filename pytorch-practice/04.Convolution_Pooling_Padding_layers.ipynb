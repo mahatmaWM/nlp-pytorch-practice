{
 "cells": [
  {
   "cell_type": "markdown",
   "metadata": {},
   "source": [
    "convolution概念的动图讲解\n",
    "\n",
    "https://github.com/vdumoulin/conv_arithmetic/blob/master/README.md\n",
    "\n",
    "https://blog.csdn.net/malefactor/article/details/51078135\n",
    "\n",
    "https://github.com/vdumoulin/conv_arithmetic/blob/master/README.md"
   ]
  },
  {
   "cell_type": "markdown",
   "metadata": {},
   "source": [
    "### convolution"
   ]
  },
  {
   "cell_type": "code",
   "execution_count": 2,
   "metadata": {
    "collapsed": false
   },
   "outputs": [
    {
     "name": "stdout",
     "output_type": "stream",
     "text": [
      "torch.Size([3, 2, 6])\n"
     ]
    }
   ],
   "source": [
    "import torch.nn as nn\n",
    "import torch\n",
    "\n",
    "# 在一个维度（向量）上做一维卷积\n",
    "\n",
    "# in_channels (int) – Number of channels in the input image\n",
    "# out_channels (int) – Number of channels produced by the convolution\n",
    "# kernel_size (int or tuple) – Size of the convolving kernel\n",
    "m = nn.Conv1d(5, 2, 2, stride=1)\n",
    "\n",
    "# Input: (N, C_{in}, L_{in})\n",
    "input = torch.randn(3, 5, 7)\n",
    "\n",
    "# Output: (N, C_{out}, L_{out})\n",
    "# 其中L_out与L_in之间可以用公式计算=6\n",
    "output = m(input)\n",
    "print(output.size())"
   ]
  },
  {
   "cell_type": "code",
   "execution_count": 8,
   "metadata": {
    "collapsed": false
   },
   "outputs": [
    {
     "name": "stdout",
     "output_type": "stream",
     "text": [
      "torch.Size([20, 33, 26, 100])\n"
     ]
    }
   ],
   "source": [
    "# 在两个维度（一个面）上做二维卷积\n",
    "\n",
    "# in_channels (int) – Number of channels in the input image\n",
    "# out_channels (int) – Number of channels produced by the convolution\n",
    "# kernel_size (int or tuple) – Size of the convolving kernel\n",
    "# With square kernels and equal stride\n",
    "m = nn.Conv2d(16, 33, 3, stride=2)\n",
    "# non-square kernels and unequal stride and with padding\n",
    "m = nn.Conv2d(16, 33, (3, 5), stride=(2, 1), padding=(4, 2))\n",
    "# non-square kernels and unequal stride and with padding and dilation\n",
    "m = nn.Conv2d(16, 33, (3, 5), stride=(2, 1),\n",
    "              padding=(4, 2), dilation=(3, 1))\n",
    "\n",
    "input = torch.randn(20, 16, 50, 100)\n",
    "output = m(input)\n",
    "print(output.size())"
   ]
  },
  {
   "cell_type": "code",
   "execution_count": null,
   "metadata": {
    "collapsed": true
   },
   "outputs": [],
   "source": []
  },
  {
   "cell_type": "markdown",
   "metadata": {
    "heading_collapsed": true
   },
   "source": [
    "### pooling"
   ]
  },
  {
   "cell_type": "markdown",
   "metadata": {
    "hidden": true
   },
   "source": [
    "作用是捕捉重要信息，减少tensor的尺寸，从而减少参数量。\n",
    "\n",
    "MaxPool(1,2,3)，AvgPool(1,2,3)，kernel_size人为指定。\n",
    "\n",
    "AdaptiveMaxPool(1,2,3)，AdaptiveAvgPool(1,2,3)，kernel_size由输入input_size和输出output_size决定。"
   ]
  },
  {
   "cell_type": "code",
   "execution_count": null,
   "metadata": {
    "collapsed": true,
    "hidden": true
   },
   "outputs": [],
   "source": []
  },
  {
   "cell_type": "markdown",
   "metadata": {
    "heading_collapsed": true
   },
   "source": [
    "### padding"
   ]
  },
  {
   "cell_type": "markdown",
   "metadata": {
    "hidden": true
   },
   "source": [
    "补齐tensor，使得尺寸统一方便处理，是很直观的概念，很好理解，直接看api文档即可"
   ]
  },
  {
   "cell_type": "code",
   "execution_count": null,
   "metadata": {
    "collapsed": true,
    "hidden": true
   },
   "outputs": [],
   "source": []
  }
 ],
 "metadata": {
  "kernelspec": {
   "display_name": "Python 3",
   "language": "python",
   "name": "python3"
  },
  "language_info": {
   "codemirror_mode": {
    "name": "ipython",
    "version": 3
   },
   "file_extension": ".py",
   "mimetype": "text/x-python",
   "name": "python",
   "nbconvert_exporter": "python",
   "pygments_lexer": "ipython3",
   "version": "3.6.2"
  },
  "latex_envs": {
   "LaTeX_envs_menu_present": true,
   "autoclose": false,
   "autocomplete": true,
   "bibliofile": "biblio.bib",
   "cite_by": "apalike",
   "current_citInitial": 1,
   "eqLabelWithNumbers": true,
   "eqNumInitial": 1,
   "hotkeys": {
    "equation": "Ctrl-E",
    "itemize": "Ctrl-I"
   },
   "labels_anchors": false,
   "latex_user_defs": false,
   "report_style_numbering": false,
   "user_envs_cfg": false
  }
 },
 "nbformat": 4,
 "nbformat_minor": 2
}
